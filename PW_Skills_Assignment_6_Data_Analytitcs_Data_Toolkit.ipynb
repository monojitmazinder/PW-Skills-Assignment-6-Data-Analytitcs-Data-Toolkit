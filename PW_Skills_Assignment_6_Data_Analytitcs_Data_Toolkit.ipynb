{
  "nbformat": 4,
  "nbformat_minor": 0,
  "metadata": {
    "colab": {
      "provenance": []
    },
    "kernelspec": {
      "name": "python3",
      "display_name": "Python 3"
    },
    "language_info": {
      "name": "python"
    }
  },
  "cells": [
    {
      "cell_type": "markdown",
      "source": [
        "# **PW Skills Assignment-6:Data Analytitcs: Data Toolkit**"
      ],
      "metadata": {
        "id": "TsnNS_mfDLI6"
      }
    },
    {
      "cell_type": "markdown",
      "source": [
        "**Data Toolkit  Questions**"
      ],
      "metadata": {
        "id": "TGRJLUWaDFEQ"
      }
    },
    {
      "cell_type": "markdown",
      "source": [
        "1. What is NumPy, and why is it widely used in Python?\n",
        "\n",
        "Ans: NumPy (Numerical Python) is a fundamental Python library for numerical computing. It provides support for large, multi-dimensional arrays and matrices, along with a collection of high-level mathematical functions to operate on these arrays. NumPy is widely used because it offers fast, efficient operations and seamless integration with other libraries like pandas, SciPy, and scikit-learn. It simplifies complex mathematical and statistical calculations, making it essential for data analysis, scientific computing, and machine learning. Its performance and ease of use make it a popular choice among developers and data scientists."
      ],
      "metadata": {
        "id": "7WYf9Vu7DipN"
      }
    },
    {
      "cell_type": "markdown",
      "source": [
        "2. How does broadcasting work in NumPy?\n",
        "\n",
        "Ans: Broadcasting in NumPy allows arrays of different shapes to be used in arithmetic operations. When performing operations on two arrays, NumPy compares their shapes element-wise. If the shapes are compatible, it stretches the smaller array across the larger one without copying data. Rules include matching dimensions or having dimensions of size 1. This feature simplifies code and improves performance by avoiding explicit loops. Broadcasting is especially useful in mathematical operations like adding a scalar to a matrix or performing element-wise operations between arrays of different shapes."
      ],
      "metadata": {
        "id": "g6F2dURZEOH0"
      }
    },
    {
      "cell_type": "markdown",
      "source": [
        "3. What is a Pandas DataFrame?\n",
        "\n",
        "Ans: A Pandas DataFrame is a two-dimensional, labeled data structure in Python, similar to a table in a database or an Excel spreadsheet. It consists of rows and columns, where each column can hold data of different types (e.g., integers, floats, strings). DataFrames are built on top of NumPy and offer powerful tools for data manipulation, such as filtering, aggregation, merging, and reshaping. They make data analysis easy and efficient by providing intuitive labels for rows and columns and a variety of functions to handle missing data, group data, and perform statistical operations."
      ],
      "metadata": {
        "id": "jnslI7y_Eg3P"
      }
    },
    {
      "cell_type": "markdown",
      "source": [
        "4.  Explain the use of the groupby() method in Pandas.\n",
        "\n",
        "Ans: The groupby() method in Pandas is used to split a DataFrame into groups based on the values in one or more columns. It allows you to perform operations like aggregation (e.g., sum, mean, count), transformation, or filtering on each group separately. This is especially useful for analyzing data by categories.\n",
        "\n",
        "For example, df.groupby('Category')['Sales'].sum() will group the data by the \"Category\" column and calculate the total sales for each category. The groupby() method is a powerful tool for summarizing and analyzing structured data efficiently."
      ],
      "metadata": {
        "id": "L96HHibFEwEJ"
      }
    },
    {
      "cell_type": "markdown",
      "source": [
        "5. Why is Seaborn preferred for statistical visualizations?\n",
        "\n",
        "Ans: Seaborn is preferred for statistical visualizations in Python because it provides a high-level interface for creating attractive and informative graphs with minimal code. Built on top of Matplotlib, Seaborn simplifies complex visualizations like box plots, violin plots, and heatmaps. It integrates well with Pandas DataFrames, making it easy to visualize relationships between variables and explore data patterns. Seaborn also includes built-in themes and color palettes for better aesthetics, and supports statistical estimation like confidence intervals. This makes it ideal for data analysis and presentation, especially in exploratory data analysis (EDA)."
      ],
      "metadata": {
        "id": "BfpqI7MGE-Lj"
      }
    },
    {
      "cell_type": "markdown",
      "source": [
        "6. What are the differences between NumPy arrays and Python lists?\n",
        "\n",
        "Ans: Here are the key differences between NumPy arrays and Python lists:\n",
        "\n",
        "1. **Performance**: NumPy arrays are faster and more efficient for numerical operations due to optimized C-based backend.\n",
        "\n",
        "2. **Data Type**: NumPy arrays hold elements of the same data type, while Python lists can contain mixed data types.\n",
        "\n",
        "3. **Functionality**: NumPy provides a wide range of mathematical functions and broadcasting capabilities, which are not available with lists.\n",
        "\n",
        "4. **Memory Usage**: NumPy arrays use less memory than lists due to their fixed-type storage.\n",
        "\n",
        "5. **Vectorization**: NumPy supports vectorized operations (element-wise operations without loops), making code cleaner and faster.\n",
        "\n",
        "These features make NumPy arrays better suited for scientific computing and data analysis.\n"
      ],
      "metadata": {
        "id": "JAMfLb3VFK8A"
      }
    },
    {
      "cell_type": "markdown",
      "source": [
        "7.  What is a heatmap, and when should it be used?\n",
        "\n",
        "Ans: A heatmap is a data visualization technique that represents data values using a matrix of colors. Each cell in the matrix corresponds to a value, with color intensity indicating the magnitude. Heatmaps are commonly used to show correlations, patterns, or distributions in large datasets.\n",
        "\n",
        "They are especially useful when:\n",
        "\n",
        "- You want to visualize relationships between variables (e.g., correlation matrix).\n",
        "- You need to identify trends, outliers, or clusters in data.\n",
        "- You're comparing data across two categorical dimensions (e.g., time vs. category).\n",
        "\n",
        "Heatmaps are widely used in data analysis, statistics, and machine learning to gain quick insights from complex data."
      ],
      "metadata": {
        "id": "8DUAyn8wFZvB"
      }
    },
    {
      "cell_type": "markdown",
      "source": [
        "8. What does the term “vectorized operation” mean in NumPy?\n",
        "\n",
        "Ans: In NumPy, a **vectorized operation** refers to performing operations on entire arrays (vectors, matrices) without using explicit loops. Instead of iterating through elements one by one, NumPy applies operations element-wise using optimized C-based code under the hood.\n",
        "\n",
        "For example:\n",
        "\n",
        "import numpy as np\n",
        "\n",
        "a = np.array([1, 2, 3])\n",
        "\n",
        "b = np.array([4, 5, 6])\n",
        "\n",
        "c = a + b  # vectorized addition\n",
        "\n",
        "This is faster and more concise than using a loop. Vectorized operations improve performance and make code cleaner, especially in large-scale numerical computations."
      ],
      "metadata": {
        "id": "Qg9y5A85FryS"
      }
    },
    {
      "cell_type": "markdown",
      "source": [
        "9. How does Matplotlib differ from Plotly?\n",
        "\n",
        "Ans: **Matplotlib** and **Plotly** are both popular Python libraries for data visualization, but they differ in key ways:\n",
        "\n",
        "1. **Interactivity**:  \n",
        "   - **Matplotlib** produces static plots (though it can support limited interactivity with widgets).  \n",
        "   - **Plotly** creates interactive, zoomable, and hover-friendly charts ideal for web use.\n",
        "\n",
        "2. **Ease of Use**:  \n",
        "   - **Matplotlib** offers more control but requires more code for complex visuals.  \n",
        "   - **Plotly** is higher-level and easier for creating complex, interactive charts with less code.\n",
        "\n",
        "3. **Customization**:  \n",
        "   - **Matplotlib** is highly customizable for static, publication-ready plots.  \n",
        "   - **Plotly** focuses on visually appealing, interactive dashboards.\n",
        "\n",
        "4. **Output Formats**:  \n",
        "   - **Matplotlib** is better for static image formats (PDF, PNG).  \n",
        "   - **Plotly** is better for HTML, web apps, and dashboards.\n",
        "\n",
        "Use **Matplotlib** for static plots and **Plotly** for interactive visualizations."
      ],
      "metadata": {
        "id": "RbSSEg34GKqV"
      }
    },
    {
      "cell_type": "markdown",
      "source": [
        "10.  What is the significance of hierarchical indexing in Pandas?\n",
        "\n",
        "Ans: Hierarchical indexing (also called **MultiIndexing**) in Pandas allows you to have multiple index levels (rows or columns), enabling you to work with higher-dimensional data in a 2D structure like a DataFrame.\n",
        "\n",
        "**Significance of hierarchical indexing:**\n",
        "\n",
        "1. **Organizes complex data**: It allows you to represent and analyze data with multiple levels of grouping, such as year and month or country and city.\n",
        "\n",
        "2. **Flexible slicing and filtering**: You can easily perform operations like subsetting, aggregation, or reshaping using different levels of the index.\n",
        "\n",
        "3. **Improves data presentation**: Makes the data more readable and structured, especially for grouped or time-series data.\n",
        "\n",
        "It’s useful in multi-dimensional analysis without needing to reshape your data."
      ],
      "metadata": {
        "id": "fD6yrnVFGbO_"
      }
    },
    {
      "cell_type": "markdown",
      "source": [
        "11. What is the role of Seaborn’s pairplot() function?\n",
        "\n",
        "Ans: Seaborn's **pairplot()** function is used to create a grid of scatter plots for pairwise relationships between variables in a dataset. It helps visualize the interactions between multiple variables, providing a comprehensive overview of their relationships. Additionally, **pairplot()** can display histograms or KDE plots on the diagonal to show the distribution of each variable.\n",
        "\n",
        "**Role of pairplot()**:\n",
        "\n",
        "1. **Exploratory Data Analysis (EDA)**: It helps identify patterns, trends, and potential correlations in the data.\n",
        "2. **Visualizing Relationships**: It shows how variables relate to each other (e.g., linear or non-linear).\n",
        "3. **Identifying Outliers**: It can help detect anomalies in data points across multiple variables.\n",
        "\n",
        "This function is especially useful in initial stages of analysis to understand the dataset and inform further statistical modeling."
      ],
      "metadata": {
        "id": "znw8lpUcGwGU"
      }
    },
    {
      "cell_type": "markdown",
      "source": [
        "12. What is the purpose of the describe() function in Pandas?\n",
        "\n",
        "Ans: The **describe()** function in Pandas provides a quick statistical summary of numerical columns in a DataFrame. It calculates key descriptive statistics such as:\n",
        "\n",
        "- **Count**: The number of non-null entries.\n",
        "- **Mean**: The average of the values.\n",
        "- **Standard deviation**: The measure of the spread of the data.\n",
        "- **Min/Max**: The minimum and maximum values.\n",
        "- **25th, 50th, and 75th percentiles**: The quartiles that divide the data into four equal parts.\n",
        "\n",
        "This function is useful for quickly understanding the distribution and central tendencies of the data, and it is often used in **Exploratory Data Analysis (EDA)** to identify patterns, detect outliers, and make data-driven decisions."
      ],
      "metadata": {
        "id": "clnnk1CiHJL8"
      }
    },
    {
      "cell_type": "markdown",
      "source": [
        "13. Why is handling missing data important in Pandas?\n",
        "\n",
        "Ans: Handling missing data is important in Pandas because incomplete or missing data can lead to inaccurate analysis, misleading conclusions, and errors in models. Proper handling ensures that the data analysis remains reliable and robust. Key reasons include:\n",
        "\n",
        "1. **Accuracy of Analysis**: Missing values can distort statistical summaries, correlations, and visualizations. Handling them ensures accurate insights.\n",
        "  \n",
        "2. **Model Performance**: Many machine learning algorithms require complete data. Unhandled missing values can cause errors or reduce model performance.\n",
        "  \n",
        "3. **Data Integrity**: Proper treatment (e.g., filling, dropping, or interpolating) ensures the dataset maintains consistency and reflects real-world scenarios.\n",
        "\n",
        "Pandas offers tools like dropna(), fillna(), and isna() to handle missing data, allowing for more effective and accurate data processing."
      ],
      "metadata": {
        "id": "9RxtzB4yHc6G"
      }
    },
    {
      "cell_type": "markdown",
      "source": [
        "14. What are the benefits of using Plotly for data visualization?\n",
        "\n",
        "Ans: Plotly offers several benefits for data visualization, making it a popular choice for interactive and web-based visualizations:\n",
        "\n",
        "1. **Interactivity**: Plotly enables highly interactive visualizations, including zooming, panning, and hover-over tooltips, allowing users to explore data dynamically.\n",
        "\n",
        "2. **Aesthetic Appeal**: It provides visually appealing, high-quality plots with rich color schemes, making data more engaging and easier to interpret.\n",
        "\n",
        "3. **Ease of Use**: Plotly's syntax is simple and intuitive, especially for creating complex visualizations like 3D plots, geographical maps, and dashboards, requiring minimal code.\n",
        "\n",
        "4. **Web Integration**: Plotly supports exporting plots as HTML files, making it easy to integrate visualizations into web applications and interactive dashboards.\n",
        "\n",
        "5. **Wide Range of Plots**: It supports a variety of chart types (e.g., line, bar, scatter, pie, contour, and more), including advanced visualizations like heatmaps and geographic maps.\n",
        "\n",
        "6. **Real-Time Data Visualization**: Plotly can be used to create real-time visualizations, ideal for monitoring live data streams.\n",
        "\n",
        "These features make Plotly particularly suited for interactive data exploration, presentations, and web-based applications."
      ],
      "metadata": {
        "id": "HdtwNCQQHxIf"
      }
    },
    {
      "cell_type": "markdown",
      "source": [
        "15. How does NumPy handle multidimensional arrays?\n",
        "\n",
        "Ans: NumPy handles multidimensional arrays through its **ndarray** object, which can represent arrays with any number of dimensions. These arrays are organized in a grid-like structure, where each dimension is called an \"axis,\" and each element is accessible using multiple indices.\n",
        "\n",
        "Key features of how NumPy handles multidimensional arrays:\n",
        "\n",
        "1. **Shape**: The shape of a multidimensional array is defined as a tuple indicating the size of the array along each axis. For example, a 2D array with 3 rows and 4 columns has the shape \"(3, 4)\".\n",
        "\n",
        "2. **Indexing**: Elements in a multidimensional array are accessed using a tuple of indices, one for each axis. For example, for a 2D array \"arr\", \"arr[1, 2]\" accesses the element in the second row and third column.\n",
        "\n",
        "3. **Broadcasting**: NumPy supports **broadcasting**, which allows operations on arrays of different shapes, aligning them based on their dimensions. For example, a scalar can be added to all elements of a 2D array.\n",
        "\n",
        "4. **Vectorization**: Operations on multidimensional arrays are optimized for fast, vectorized computation, making them much more efficient than using loops in standard Python lists.\n",
        "\n",
        "5. **Slicing**: Similar to 1D arrays, multidimensional arrays can be sliced using ranges for each dimension. For example, \"arr[:, 1:3]\" slices all rows and selects columns 1 to 2 in a 2D array.\n",
        "\n",
        "NumPy's powerful handling of multidimensional arrays makes it an essential tool for scientific computing, as it allows easy manipulation, computation, and analysis of complex datasets."
      ],
      "metadata": {
        "id": "T-bwFRyjH9ss"
      }
    },
    {
      "cell_type": "markdown",
      "source": [
        "16. What is the role of Bokeh in data visualization?\n",
        "\n",
        "Ans: **Bokeh** is a powerful Python library for creating interactive visualizations that can be embedded in web browsers. Its main role in data visualization is to provide tools for building complex, interactive plots and dashboards that are highly customizable. Some key aspects of Bokeh include:\n",
        "\n",
        "1. **Interactivity**: Bokeh enables interactive elements like hover tools, sliders, zooming, and panning, allowing users to explore data dynamically.\n",
        "\n",
        "2. **Web Integration**: Bokeh visualizations are designed to be easily integrated into web applications, providing HTML, JavaScript, and JSON exports. This makes it ideal for building interactive data visualizations on websites.\n",
        "\n",
        "3. **High-Performance Visualization**: It is designed to handle large datasets and offers support for real-time streaming data, making it suitable for dashboards and data monitoring.\n",
        "\n",
        "4. **Customizability**: Bokeh provides fine-grained control over visual elements, allowing users to create highly customized visualizations tailored to specific needs.\n",
        "\n",
        "5. **Variety of Plot Types**: Bokeh supports a wide range of plots such as line plots, bar charts, heatmaps, scatter plots, and more complex visualizations like network graphs and geographic maps.\n",
        "\n",
        "In summary, Bokeh is ideal for creating highly interactive and aesthetically pleasing visualizations that can be shared and embedded on websites, providing a rich user experience for exploring data."
      ],
      "metadata": {
        "id": "uYI9PGsNItvL"
      }
    },
    {
      "cell_type": "markdown",
      "source": [
        "17. Explain the difference between apply() and map() in Pandas.\n",
        "\n",
        "Ans: In Pandas, both apply() and map() are used to apply functions to data, but they have different purposes and use cases:\n",
        "\n",
        "**1. apply()**:\n",
        "- **Usage**: apply() is used to apply a function along a specific axis (rows or columns) of a DataFrame or Series.\n",
        "- **Scope**: Works on entire rows or columns in a DataFrame or on elements in a Series.\n",
        "- **Return Type**: It can return a DataFrame, Series, or scalar value depending on the function used.\n",
        "- **Flexibility**: More flexible because it can be used for operations along both rows (axis=1) and columns (axis=0) in DataFrames.\n",
        "\n",
        "**Example**:\n",
        "\n",
        "df.apply(lambda x: x.sum(), axis=1)  # Applies sum to each row of the DataFrame.\n",
        "\n",
        "\n",
        "**2. map()**:\n",
        "- **Usage**: map() is used specifically on a **Series** to apply a function element-wise.\n",
        "- **Scope**: Works only on Series, not DataFrames.\n",
        "- **Return Type**: It returns a Series with the transformed values, and it can also map values using dictionaries or Series.\n",
        "- **Simplicity**: It is more limited and generally faster when you only need to apply a function to a single column or Series.\n",
        "\n",
        "**Example**:\n",
        "\n",
        "df['column_name'].map(lambda x: x * 2)  # Applies element-wise multiplication to a single Series.\n",
        "\n",
        "\n",
        "**Key Differences**:\n",
        "- **Functionality**: apply() is more versatile (works with both rows and columns), whereas map() is used for element-wise transformations in Series.\n",
        "- **Performance**: map() is usually faster for element-wise operations on a Series because it is designed for this purpose.\n",
        "- **Output**: apply() can return more complex outputs (e.g., Series, DataFrame, scalar), while map() returns a Series.\n",
        "\n",
        "In summary:\n",
        "- Use **map()** for element-wise transformations on Series.\n",
        "- Use **apply()** for more complex operations, especially when working with DataFrames or needing to apply functions across rows or columns."
      ],
      "metadata": {
        "id": "JPZRB2CEI-bX"
      }
    },
    {
      "cell_type": "markdown",
      "source": [
        "18. What are some advanced features of NumPy?\n",
        "\n",
        "Ans: NumPy offers several advanced features that make it a powerful library for numerical computations:\n",
        "\n",
        "1. **Broadcasting**: Allows performing operations on arrays of different shapes by automatically aligning them based on their dimensions, eliminating the need for explicit loops.\n",
        "\n",
        "2. **Vectorization**: Enables efficient element-wise operations on arrays without the need for explicit loops, speeding up computations.\n",
        "\n",
        "3. **Linear Algebra**: Includes functions for matrix multiplication, eigenvalues, singular value decomposition (SVD), and more, allowing advanced mathematical operations.\n",
        "\n",
        "4. **Random Sampling**: Provides robust random number generation, useful for simulations, statistical sampling, and creating random datasets.\n",
        "\n",
        "5. **Universal Functions (ufuncs)**: Supports fast, element-wise operations with broadcasting, such as trigonometric, arithmetic, and logarithmic functions.\n",
        "\n",
        "6. **Memory Layout Options**: Supports different memory layouts (C-order, Fortran-order) for optimization in specific operations.\n",
        "\n",
        "These features enable NumPy to handle complex data manipulation and mathematical operations efficiently."
      ],
      "metadata": {
        "id": "OTpeJRGWKPRl"
      }
    },
    {
      "cell_type": "markdown",
      "source": [
        "19. How does Pandas simplify time series analysis?\n",
        "\n",
        "Ans: Pandas simplifies time series analysis by providing powerful, built-in tools and data structures that make working with time-based data easier. Key ways Pandas enhances time series analysis include:\n",
        "\n",
        "1. **Datetime Indexing**: Pandas allows easy conversion of dates and times into 'datetime' objects, enabling you to set time as an index for a DataFrame or Series, which facilitates easy indexing, slicing, and resampling.\n",
        "\n",
        "2. **Resampling**: You can resample time series data to different frequencies (e.g., converting daily data into monthly data) using functions like 'resample()'. This is helpful for aggregating or downsampling data.\n",
        "\n",
        "3. **Time Shifting**: Functions like 'shift()' and 'tshift()' enable shifting data in time, making it easier to compute differences, rolling windows, or lagged variables.\n",
        "\n",
        "4. **Time Zone Handling**: Pandas makes working with time zones easy by allowing you to localize, convert between time zones, and perform operations on timezone-aware data.\n",
        "\n",
        "5. **Rolling Windows**: With `rolling()', you can compute moving averages or apply other statistics on a sliding window basis, which is crucial for smoothing time series data.\n",
        "\n",
        "6. **Date Range Generation**: The 'date_range()' function makes it simple to generate time-based indices for creating or manipulating time series data.\n",
        "\n",
        "7. **Handling Missing Data**: Pandas provides robust methods for handling missing time series data, including forward/backward filling and interpolation, ensuring that time series analysis remains accurate.\n",
        "\n",
        "These features make Pandas an essential tool for analyzing, manipulating, and visualizing time-based data efficiently."
      ],
      "metadata": {
        "id": "0IEcmQjkKoxz"
      }
    },
    {
      "cell_type": "markdown",
      "source": [
        "20. What is the role of a pivot table in Pandas?\n",
        "\n",
        "Ans: A **pivot table** in Pandas is used to summarize and aggregate data in a DataFrame, transforming it into a more meaningful format for analysis. It allows you to group data by one or more columns and apply aggregate functions like sum, mean, or count to generate insights. Pivot tables are useful for reshaping large datasets, comparing multiple variables, and identifying patterns or trends. The **pivot_table()** function in Pandas simplifies the process of creating these summaries and enables flexible data exploration."
      ],
      "metadata": {
        "id": "WgeapKHZLHXM"
      }
    },
    {
      "cell_type": "markdown",
      "source": [
        "21. Why is NumPy’s array slicing faster than Python’s list slicing?\n",
        "\n",
        "Ans: NumPy's array slicing is faster than Python's list slicing because NumPy arrays are implemented in contiguous memory blocks, allowing direct access to the data without the need for copying. When slicing a NumPy array, a view of the original array is returned, rather than creating a new array, which saves time and memory. In contrast, Python lists require copying the sliced portion into a new list, making the operation slower. NumPy’s underlying C-based implementation also optimizes operations, further improving performance."
      ],
      "metadata": {
        "id": "6aE6MVDFLbo-"
      }
    },
    {
      "cell_type": "markdown",
      "source": [
        "22. What are some common use cases for Seaborn?\n",
        "\n",
        "Ans: Seaborn is commonly used for:\n",
        "\n",
        "1. **Exploratory Data Analysis (EDA)**: Visualizing distributions, correlations, and relationships between variables using plots like histograms, pair plots, and heatmaps.\n",
        "2. **Statistical Visualization**: Creating plots like box plots, violin plots, and bar plots to show data distributions and comparisons.\n",
        "3. **Regression Analysis**: Visualizing regression lines and relationships with scatter plots, linear fit, and residual plots.\n",
        "4. **Categorical Data**: Visualizing categorical data through count plots, bar plots, and swarm plots.\n",
        "5. **Time Series**: Plotting trends over time with line plots."
      ],
      "metadata": {
        "id": "Ulu6htCzLoQK"
      }
    },
    {
      "cell_type": "markdown",
      "source": [
        "**Practical**"
      ],
      "metadata": {
        "id": "i6wphpRYL2Io"
      }
    },
    {
      "cell_type": "code",
      "source": [
        "#1. How do you create a 2D NumPy array and calculate the sum of each row?\n",
        "\n",
        "\n",
        "import numpy as np\n",
        "\n",
        "# Create a 2D NumPy array\n",
        "arr = np.array([[1, 2, 3], [4, 5, 6], [7, 8, 9]])\n",
        "\n",
        "# Calculate the sum of each row\n",
        "row_sums = arr.sum(axis=1)\n",
        "\n",
        "print(row_sums)\n"
      ],
      "metadata": {
        "colab": {
          "base_uri": "https://localhost:8080/"
        },
        "id": "yniWTmwmL7Fz",
        "outputId": "be2ce526-c94b-4ee1-b6f4-455e1aaf637e"
      },
      "execution_count": 1,
      "outputs": [
        {
          "output_type": "stream",
          "name": "stdout",
          "text": [
            "[ 6 15 24]\n"
          ]
        }
      ]
    },
    {
      "cell_type": "code",
      "source": [
        "#2. Write a Pandas script to find the mean of a specific column in a DataFrame.\n",
        "\n",
        "import pandas as pd\n",
        "\n",
        "# Sample DataFrame\n",
        "data = {'A': [1, 2, 3, 4, 5], 'B': [5, 6, 7, 8, 9]}\n",
        "df = pd.DataFrame(data)\n",
        "\n",
        "# Find the mean of column 'A'\n",
        "mean_value = df['A'].mean()\n",
        "\n",
        "print(mean_value)"
      ],
      "metadata": {
        "colab": {
          "base_uri": "https://localhost:8080/"
        },
        "id": "QuhEgTjWMe6Z",
        "outputId": "bd5a5235-84cc-42b6-e865-c96c654775f8"
      },
      "execution_count": 2,
      "outputs": [
        {
          "output_type": "stream",
          "name": "stdout",
          "text": [
            "3.0\n"
          ]
        }
      ]
    },
    {
      "cell_type": "code",
      "source": [
        "#3.  Create a scatter plot using Matplotlib.\n",
        "\n",
        "import matplotlib.pyplot as plt\n",
        "\n",
        "# Data for the scatter plot\n",
        "x = [1, 2, 3, 4, 5]\n",
        "y = [2, 4, 5, 7, 11]\n",
        "\n",
        "# Create the scatter plot\n",
        "plt.scatter(x, y)\n",
        "\n",
        "# Add labels and title\n",
        "plt.xlabel('X-axis')\n",
        "plt.ylabel('Y-axis')\n",
        "plt.title('Scatter Plot')\n",
        "\n",
        "# Display the plot\n",
        "plt.show()"
      ],
      "metadata": {
        "colab": {
          "base_uri": "https://localhost:8080/",
          "height": 472
        },
        "id": "zWwx4eINMyfI",
        "outputId": "5d486bd9-df7d-40b2-bcc3-aa747622c6ab"
      },
      "execution_count": 4,
      "outputs": [
        {
          "output_type": "display_data",
          "data": {
            "text/plain": [
              "<Figure size 640x480 with 1 Axes>"
            ],
            "image/png": "[encoded data removed]"
          },
          "metadata": {}
        }
      ]
    },
    {
      "cell_type": "code",
      "source": [
        "#4.  How do you calculate the correlation matrix using Seaborn and visualize it with a heatmap?\n",
        "\n",
        "import seaborn as sns\n",
        "import pandas as pd\n",
        "import numpy as np\n",
        "\n",
        "# Create a sample DataFrame\n",
        "data = np.random.rand(10, 5)\n",
        "df = pd.DataFrame(data, columns=['A', 'B', 'C', 'D', 'E'])\n",
        "\n",
        "# Calculate the correlation matrix\n",
        "corr_matrix = df.corr()\n",
        "\n",
        "# Create a heatmap to visualize the correlation matrix\n",
        "sns.heatmap(corr_matrix, annot=True, cmap='coolwarm', fmt='.2f')\n",
        "\n",
        "# Display the heatmap\n",
        "plt.show()"
      ],
      "metadata": {
        "colab": {
          "base_uri": "https://localhost:8080/",
          "height": 435
        },
        "id": "CdXgTbnXNSSk",
        "outputId": "f45416ab-111a-429c-eef8-e1d2d4db6b56"
      },
      "execution_count": 5,
      "outputs": [
        {
          "output_type": "display_data",
          "data": {
            "text/plain": [
              "<Figure size 640x480 with 2 Axes>"
            ],
            "image/png": "[encoded data removed]"
          },
          "metadata": {}
        }
      ]
    },
    {
      "cell_type": "code",
      "source": [
        "#5. Generate a bar plot using Plotly.\n",
        "\n",
        "import plotly.express as px\n",
        "\n",
        "# Sample data\n",
        "data = {'Category': ['A', 'B', 'C', 'D'], 'Value': [10, 15, 7, 20]}\n",
        "\n",
        "# Create a DataFrame\n",
        "df = pd.DataFrame(data)\n",
        "\n",
        "# Generate a bar plot\n",
        "fig = px.bar(df, x='Category', y='Value', title='Bar Plot Example')\n",
        "\n",
        "# Display the plot\n",
        "fig.show()"
      ],
      "metadata": {
        "colab": {
          "base_uri": "https://localhost:8080/",
          "height": 542
        },
        "id": "tkUiYkgeN6DO",
        "outputId": "7224f6e9-7907-485d-801e-8eb1c32741b3"
      },
      "execution_count": 6,
      "outputs": [
        {
          "output_type": "display_data",
          "data": {
            "text/html": [
              "<html>\n",
              "<head><meta charset=\"utf-8\" /></head>\n",
              "<body>\n",
              "    <div>            <script src=\"https://cdnjs.cloudflare.com/ajax/libs/mathjax/2.7.5/MathJax.js?config=TeX-AMS-MML_SVG\"></script><script type=\"text/javascript\">if (window.MathJax && window.MathJax.Hub && window.MathJax.Hub.Config) {window.MathJax.Hub.Config({SVG: {font: \"STIX-Web\"}});}</script>                <script type=\"text/javascript\">window.PlotlyConfig = {MathJaxConfig: 'local'};</script>\n",
              "        <script charset=\"utf-8\" src=\"https://cdn.plot.ly/plotly-2.35.2.min.js\"></script>                <div id=\"7d17f5df-4f6d-40a7-a461-1c1c1934cf8e\" class=\"plotly-graph-div\" style=\"height:525px; width:100%;\"></div>            <script type=\"text/javascript\">                                    window.PLOTLYENV=window.PLOTLYENV || {};                                    if (document.getElementById(\"7d17f5df-4f6d-40a7-a461-1c1c1934cf8e\")) {                    Plotly.newPlot(                        \"7d17f5df-4f6d-40a7-a461-1c1c1934cf8e\",                        [{\"alignmentgroup\":\"True\",\"hovertemplate\":\"Category=%{x}\\u003cbr\\u003eValue=%{y}\\u003cextra\\u003e\\u003c\\u002fextra\\u003e\",\"legendgroup\":\"\",\"marker\":{\"color\":\"#636efa\",\"pattern\":{\"shape\":\"\"}},\"name\":\"\",\"offsetgroup\":\"\",\"orientation\":\"v\",\"showlegend\":false,\"textposition\":\"auto\",\"x\":[\"A\",\"B\",\"C\",\"D\"],\"xaxis\":\"x\",\"y\":[10,15,7,20],\"yaxis\":\"y\",\"type\":\"bar\"}],                        {\"template\":{\"data\":{\"histogram2dcontour\":[{\"type\":\"histogram2dcontour\",\"colorbar\":{\"outlinewidth\":0,\"ticks\":\"\"},\"colorscale\":[[0.0,\"#0d0887\"],[0.1111111111111111,\"#46039f\"],[0.2222222222222222,\"#7201a8\"],[0.3333333333333333,\"#9c179e\"],[0.4444444444444444,\"#bd3786\"],[0.5555555555555556,\"#d8576b\"],[0.6666666666666666,\"#ed7953\"],[0.7777777777777778,\"#fb9f3a\"],[0.8888888888888888,\"#fdca26\"],[1.0,\"#f0f921\"]]}],\"choropleth\":[{\"type\":\"choropleth\",\"colorbar\":{\"outlinewidth\":0,\"ticks\":\"\"}}],\"histogram2d\":[{\"type\":\"histogram2d\",\"colorbar\":{\"outlinewidth\":0,\"ticks\":\"\"},\"colorscale\":[[0.0,\"#0d0887\"],[0.1111111111111111,\"#46039f\"],[0.2222222222222222,\"#7201a8\"],[0.3333333333333333,\"#9c179e\"],[0.4444444444444444,\"#bd3786\"],[0.5555555555555556,\"#d8576b\"],[0.6666666666666666,\"#ed7953\"],[0.7777777777777778,\"#fb9f3a\"],[0.8888888888888888,\"#fdca26\"],[1.0,\"#f0f921\"]]}],\"heatmap\":[{\"type\":\"heatmap\",\"colorbar\":{\"outlinewidth\":0,\"ticks\":\"\"},\"colorscale\":[[0.0,\"#0d0887\"],[0.1111111111111111,\"#46039f\"],[0.2222222222222222,\"#7201a8\"],[0.3333333333333333,\"#9c179e\"],[0.4444444444444444,\"#bd3786\"],[0.5555555555555556,\"#d8576b\"],[0.6666666666666666,\"#ed7953\"],[0.7777777777777778,\"#fb9f3a\"],[0.8888888888888888,\"#fdca26\"],[1.0,\"#f0f921\"]]}],\"heatmapgl\":[{\"type\":\"heatmapgl\",\"colorbar\":{\"outlinewidth\":0,\"ticks\":\"\"},\"colorscale\":[[0.0,\"#0d0887\"],[0.1111111111111111,\"#46039f\"],[0.2222222222222222,\"#7201a8\"],[0.3333333333333333,\"#9c179e\"],[0.4444444444444444,\"#bd3786\"],[0.5555555555555556,\"#d8576b\"],[0.6666666666666666,\"#ed7953\"],[0.7777777777777778,\"#fb9f3a\"],[0.8888888888888888,\"#fdca26\"],[1.0,\"#f0f921\"]]}],\"contourcarpet\":[{\"type\":\"contourcarpet\",\"colorbar\":{\"outlinewidth\":0,\"ticks\":\"\"}}],\"contour\":[{\"type\":\"contour\",\"colorbar\":{\"outlinewidth\":0,\"ticks\":\"\"},\"colorscale\":[[0.0,\"#0d0887\"],[0.1111111111111111,\"#46039f\"],[0.2222222222222222,\"#7201a8\"],[0.3333333333333333,\"#9c179e\"],[0.4444444444444444,\"#bd3786\"],[0.5555555555555556,\"#d8576b\"],[0.6666666666666666,\"#ed7953\"],[0.7777777777777778,\"#fb9f3a\"],[0.8888888888888888,\"#fdca26\"],[1.0,\"#f0f921\"]]}],\"surface\":[{\"type\":\"surface\",\"colorbar\":{\"outlinewidth\":0,\"ticks\":\"\"},\"colorscale\":[[0.0,\"#0d0887\"],[0.1111111111111111,\"#46039f\"],[0.2222222222222222,\"#7201a8\"],[0.3333333333333333,\"#9c179e\"],[0.4444444444444444,\"#bd3786\"],[0.5555555555555556,\"#d8576b\"],[0.6666666666666666,\"#ed7953\"],[0.7777777777777778,\"#fb9f3a\"],[0.8888888888888888,\"#fdca26\"],[1.0,\"#f0f921\"]]}],\"mesh3d\":[{\"type\":\"mesh3d\",\"colorbar\":{\"outlinewidth\":0,\"ticks\":\"\"}}],\"scatter\":[{\"fillpattern\":{\"fillmode\":\"overlay\",\"size\":10,\"solidity\":0.2},\"type\":\"scatter\"}],\"parcoords\":[{\"type\":\"parcoords\",\"line\":{\"colorbar\":{\"outlinewidth\":0,\"ticks\":\"\"}}}],\"scatterpolargl\":[{\"type\":\"scatterpolargl\",\"marker\":{\"colorbar\":{\"outlinewidth\":0,\"ticks\":\"\"}}}],\"bar\":[{\"error_x\":{\"color\":\"#2a3f5f\"},\"error_y\":{\"color\":\"#2a3f5f\"},\"marker\":{\"line\":{\"color\":\"#E5ECF6\",\"width\":0.5},\"pattern\":{\"fillmode\":\"overlay\",\"size\":10,\"solidity\":0.2}},\"type\":\"bar\"}],\"scattergeo\":[{\"type\":\"scattergeo\",\"marker\":{\"colorbar\":{\"outlinewidth\":0,\"ticks\":\"\"}}}],\"scatterpolar\":[{\"type\":\"scatterpolar\",\"marker\":{\"colorbar\":{\"outlinewidth\":0,\"ticks\":\"\"}}}],\"histogram\":[{\"marker\":{\"pattern\":{\"fillmode\":\"overlay\",\"size\":10,\"solidity\":0.2}},\"type\":\"histogram\"}],\"scattergl\":[{\"type\":\"scattergl\",\"marker\":{\"colorbar\":{\"outlinewidth\":0,\"ticks\":\"\"}}}],\"scatter3d\":[{\"type\":\"scatter3d\",\"line\":{\"colorbar\":{\"outlinewidth\":0,\"ticks\":\"\"}},\"marker\":{\"colorbar\":{\"outlinewidth\":0,\"ticks\":\"\"}}}],\"scattermapbox\":[{\"type\":\"scattermapbox\",\"marker\":{\"colorbar\":{\"outlinewidth\":0,\"ticks\":\"\"}}}],\"scatterternary\":[{\"type\":\"scatterternary\",\"marker\":{\"colorbar\":{\"outlinewidth\":0,\"ticks\":\"\"}}}],\"scattercarpet\":[{\"type\":\"scattercarpet\",\"marker\":{\"colorbar\":{\"outlinewidth\":0,\"ticks\":\"\"}}}],\"carpet\":[{\"aaxis\":{\"endlinecolor\":\"#2a3f5f\",\"gridcolor\":\"white\",\"linecolor\":\"white\",\"minorgridcolor\":\"white\",\"startlinecolor\":\"#2a3f5f\"},\"baxis\":{\"endlinecolor\":\"#2a3f5f\",\"gridcolor\":\"white\",\"linecolor\":\"white\",\"minorgridcolor\":\"white\",\"startlinecolor\":\"#2a3f5f\"},\"type\":\"carpet\"}],\"table\":[{\"cells\":{\"fill\":{\"color\":\"#EBF0F8\"},\"line\":{\"color\":\"white\"}},\"header\":{\"fill\":{\"color\":\"#C8D4E3\"},\"line\":{\"color\":\"white\"}},\"type\":\"table\"}],\"barpolar\":[{\"marker\":{\"line\":{\"color\":\"#E5ECF6\",\"width\":0.5},\"pattern\":{\"fillmode\":\"overlay\",\"size\":10,\"solidity\":0.2}},\"type\":\"barpolar\"}],\"pie\":[{\"automargin\":true,\"type\":\"pie\"}]},\"layout\":{\"autotypenumbers\":\"strict\",\"colorway\":[\"#636efa\",\"#EF553B\",\"#00cc96\",\"#ab63fa\",\"#FFA15A\",\"#19d3f3\",\"#FF6692\",\"#B6E880\",\"#FF97FF\",\"#FECB52\"],\"font\":{\"color\":\"#2a3f5f\"},\"hovermode\":\"closest\",\"hoverlabel\":{\"align\":\"left\"},\"paper_bgcolor\":\"white\",\"plot_bgcolor\":\"#E5ECF6\",\"polar\":{\"bgcolor\":\"#E5ECF6\",\"angularaxis\":{\"gridcolor\":\"white\",\"linecolor\":\"white\",\"ticks\":\"\"},\"radialaxis\":{\"gridcolor\":\"white\",\"linecolor\":\"white\",\"ticks\":\"\"}},\"ternary\":{\"bgcolor\":\"#E5ECF6\",\"aaxis\":{\"gridcolor\":\"white\",\"linecolor\":\"white\",\"ticks\":\"\"},\"baxis\":{\"gridcolor\":\"white\",\"linecolor\":\"white\",\"ticks\":\"\"},\"caxis\":{\"gridcolor\":\"white\",\"linecolor\":\"white\",\"ticks\":\"\"}},\"coloraxis\":{\"colorbar\":{\"outlinewidth\":0,\"ticks\":\"\"}},\"colorscale\":{\"sequential\":[[0.0,\"#0d0887\"],[0.1111111111111111,\"#46039f\"],[0.2222222222222222,\"#7201a8\"],[0.3333333333333333,\"#9c179e\"],[0.4444444444444444,\"#bd3786\"],[0.5555555555555556,\"#d8576b\"],[0.6666666666666666,\"#ed7953\"],[0.7777777777777778,\"#fb9f3a\"],[0.8888888888888888,\"#fdca26\"],[1.0,\"#f0f921\"]],\"sequentialminus\":[[0.0,\"#0d0887\"],[0.1111111111111111,\"#46039f\"],[0.2222222222222222,\"#7201a8\"],[0.3333333333333333,\"#9c179e\"],[0.4444444444444444,\"#bd3786\"],[0.5555555555555556,\"#d8576b\"],[0.6666666666666666,\"#ed7953\"],[0.7777777777777778,\"#fb9f3a\"],[0.8888888888888888,\"#fdca26\"],[1.0,\"#f0f921\"]],\"diverging\":[[0,\"#8e0152\"],[0.1,\"#c51b7d\"],[0.2,\"#de77ae\"],[0.3,\"#f1b6da\"],[0.4,\"#fde0ef\"],[0.5,\"#f7f7f7\"],[0.6,\"#e6f5d0\"],[0.7,\"#b8e186\"],[0.8,\"#7fbc41\"],[0.9,\"#4d9221\"],[1,\"#276419\"]]},\"xaxis\":{\"gridcolor\":\"white\",\"linecolor\":\"white\",\"ticks\":\"\",\"title\":{\"standoff\":15},\"zerolinecolor\":\"white\",\"automargin\":true,\"zerolinewidth\":2},\"yaxis\":{\"gridcolor\":\"white\",\"linecolor\":\"white\",\"ticks\":\"\",\"title\":{\"standoff\":15},\"zerolinecolor\":\"white\",\"automargin\":true,\"zerolinewidth\":2},\"scene\":{\"xaxis\":{\"backgroundcolor\":\"#E5ECF6\",\"gridcolor\":\"white\",\"linecolor\":\"white\",\"showbackground\":true,\"ticks\":\"\",\"zerolinecolor\":\"white\",\"gridwidth\":2},\"yaxis\":{\"backgroundcolor\":\"#E5ECF6\",\"gridcolor\":\"white\",\"linecolor\":\"white\",\"showbackground\":true,\"ticks\":\"\",\"zerolinecolor\":\"white\",\"gridwidth\":2},\"zaxis\":{\"backgroundcolor\":\"#E5ECF6\",\"gridcolor\":\"white\",\"linecolor\":\"white\",\"showbackground\":true,\"ticks\":\"\",\"zerolinecolor\":\"white\",\"gridwidth\":2}},\"shapedefaults\":{\"line\":{\"color\":\"#2a3f5f\"}},\"annotationdefaults\":{\"arrowcolor\":\"#2a3f5f\",\"arrowhead\":0,\"arrowwidth\":1},\"geo\":{\"bgcolor\":\"white\",\"landcolor\":\"#E5ECF6\",\"subunitcolor\":\"white\",\"showland\":true,\"showlakes\":true,\"lakecolor\":\"white\"},\"title\":{\"x\":0.05},\"mapbox\":{\"style\":\"light\"}}},\"xaxis\":{\"anchor\":\"y\",\"domain\":[0.0,1.0],\"title\":{\"text\":\"Category\"}},\"yaxis\":{\"anchor\":\"x\",\"domain\":[0.0,1.0],\"title\":{\"text\":\"Value\"}},\"legend\":{\"tracegroupgap\":0},\"title\":{\"text\":\"Bar Plot Example\"},\"barmode\":\"relative\"},                        {\"responsive\": true}                    ).then(function(){\n",
              "                            \n",
              "var gd = document.getElementById('7d17f5df-4f6d-40a7-a461-1c1c1934cf8e');\n",
              "var x = new MutationObserver(function (mutations, observer) {{\n",
              "        var display = window.getComputedStyle(gd).display;\n",
              "        if (!display || display === 'none') {{\n",
              "            console.log([gd, 'removed!']);\n",
              "            Plotly.purge(gd);\n",
              "            observer.disconnect();\n",
              "        }}\n",
              "}});\n",
              "\n",
              "// Listen for the removal of the full notebook cells\n",
              "var notebookContainer = gd.closest('#notebook-container');\n",
              "if (notebookContainer) {{\n",
              "    x.observe(notebookContainer, {childList: true});\n",
              "}}\n",
              "\n",
              "// Listen for the clearing of the current output cell\n",
              "var outputEl = gd.closest('.output');\n",
              "if (outputEl) {{\n",
              "    x.observe(outputEl, {childList: true});\n",
              "}}\n",
              "\n",
              "                        })                };                            </script>        </div>\n",
              "</body>\n",
              "</html>"
            ]
          },
          "metadata": {}
        }
      ]
    },
    {
      "cell_type": "code",
      "source": [
        "#6. Create a DataFrame and add a new column based on an existing column.\n",
        "\n",
        "import pandas as pd\n",
        "\n",
        "# Create a sample DataFrame\n",
        "data = {'A': [1, 2, 3, 4, 5], 'B': [5, 6, 7, 8, 9]}\n",
        "df = pd.DataFrame(data)\n",
        "\n",
        "# Add a new column 'C' based on column 'A'\n",
        "df['C'] = df['A'] * 2\n",
        "\n",
        "# Display the DataFrame\n",
        "print(df)"
      ],
      "metadata": {
        "colab": {
          "base_uri": "https://localhost:8080/"
        },
        "id": "gzChP0nrOWTK",
        "outputId": "35b1ce5a-f1c5-4f68-defd-129138c1f3e7"
      },
      "execution_count": 7,
      "outputs": [
        {
          "output_type": "stream",
          "name": "stdout",
          "text": [
            "   A  B   C\n",
            "0  1  5   2\n",
            "1  2  6   4\n",
            "2  3  7   6\n",
            "3  4  8   8\n",
            "4  5  9  10\n"
          ]
        }
      ]
    },
    {
      "cell_type": "code",
      "source": [
        "#7. Write a program to perform element-wise multiplication of two NumPy arrays.\n",
        "\n",
        "import numpy as np\n",
        "\n",
        "# Create two NumPy arrays\n",
        "arr1 = np.array([47, 72, 56])\n",
        "arr2 = np.array([14, 25, 36])\n",
        "\n",
        "# Perform element-wise multiplication\n",
        "result = arr1 * arr2\n",
        "\n",
        "# Display the result\n",
        "print(result)"
      ],
      "metadata": {
        "colab": {
          "base_uri": "https://localhost:8080/"
        },
        "id": "ldecqOfOOoST",
        "outputId": "e89fc77b-d744-4fda-899d-598575613b5a"
      },
      "execution_count": 9,
      "outputs": [
        {
          "output_type": "stream",
          "name": "stdout",
          "text": [
            "[ 658 1800 2016]\n"
          ]
        }
      ]
    },
    {
      "cell_type": "code",
      "source": [
        "#8. Create a line plot with multiple lines using Matplotlib.\n",
        "\n",
        "import matplotlib.pyplot as plt\n",
        "\n",
        "# Data for the line plot\n",
        "x = [1, 2, 3, 4, 5]\n",
        "y1 = [1, 4, 9, 16, 25]\n",
        "y2 = [1, 2, 3, 4, 5]\n",
        "\n",
        "# Create a line plot with multiple lines\n",
        "plt.plot(x, y1, label='y = x^2', color='blue')\n",
        "plt.plot(x, y2, label='y = x', color='green')\n",
        "\n",
        "# Add labels and title\n",
        "plt.xlabel('X-axis')\n",
        "plt.ylabel('Y-axis')\n",
        "plt.title('Multiple Line Plot')\n",
        "\n",
        "# Display the legend\n",
        "plt.legend()\n",
        "\n",
        "# Show the plot\n",
        "plt.show()\n",
        "\n"
      ],
      "metadata": {
        "colab": {
          "base_uri": "https://localhost:8080/",
          "height": 472
        },
        "id": "gXOveDnZPI-E",
        "outputId": "510810b3-e1f3-41b3-c943-b81988d45390"
      },
      "execution_count": 10,
      "outputs": [
        {
          "output_type": "display_data",
          "data": {
            "text/plain": [
              "<Figure size 640x480 with 1 Axes>"
            ],
            "image/png": "[encoded data removed]"
          },
          "metadata": {}
        }
      ]
    },
    {
      "cell_type": "code",
      "source": [
        "#9. Generate a Pandas DataFrame and filter rows where a column value is greater than a threshold.\n",
        "\n",
        "\n",
        "import pandas as pd\n",
        "\n",
        "# Create a sample DataFrame\n",
        "data = {'A': [10, 20, 30, 40, 50], 'B': [5, 15, 25, 35, 45]}\n",
        "df = pd.DataFrame(data)\n",
        "\n",
        "# Filter rows where column 'A' value is greater than 30\n",
        "filtered_df = df[df['A'] > 30]\n",
        "\n",
        "# Display the filtered DataFrame\n",
        "print(filtered_df)\n"
      ],
      "metadata": {
        "colab": {
          "base_uri": "https://localhost:8080/"
        },
        "id": "vDxCLLjRPzcs",
        "outputId": "476877c9-78e3-4c42-f32d-3805cb317ff4"
      },
      "execution_count": 11,
      "outputs": [
        {
          "output_type": "stream",
          "name": "stdout",
          "text": [
            "    A   B\n",
            "3  40  35\n",
            "4  50  45\n"
          ]
        }
      ]
    },
    {
      "cell_type": "code",
      "source": [
        "#10. Create a histogram using Seaborn to visualize a distribution.\n",
        "\n",
        "import seaborn as sns\n",
        "import matplotlib.pyplot as plt\n",
        "\n",
        "# Sample data\n",
        "data = [1, 2, 2, 3, 3, 3, 4, 4, 5, 6, 6, 6, 7, 8, 9]\n",
        "\n",
        "# Create a histogram\n",
        "sns.histplot(data, bins=5, kde=True)\n",
        "\n",
        "# Add title and labels\n",
        "plt.title('Histogram with Distribution')\n",
        "plt.xlabel('Values')\n",
        "plt.ylabel('Frequency')\n",
        "\n",
        "# Display the plot\n",
        "plt.show()"
      ],
      "metadata": {
        "colab": {
          "base_uri": "https://localhost:8080/",
          "height": 472
        },
        "id": "-Ue56L_mQZ1a",
        "outputId": "a54e43bd-72e0-4b7c-d2c9-ddd46a330f40"
      },
      "execution_count": 12,
      "outputs": [
        {
          "output_type": "display_data",
          "data": {
            "text/plain": [
              "<Figure size 640x480 with 1 Axes>"
            ],
            "image/png": "[encoded data removed]"
          },
          "metadata": {}
        }
      ]
    },
    {
      "cell_type": "code",
      "source": [
        "#11. Perform matrix multiplication using NumPy.\n",
        "\n",
        "\n",
        "import numpy as np\n",
        "\n",
        "# Create two matrices\n",
        "matrix1 = np.array([[1, 2], [3, 4]])\n",
        "matrix2 = np.array([[5, 6], [7, 8]])\n",
        "\n",
        "# Perform matrix multiplication\n",
        "result = np.dot(matrix1, matrix2)\n",
        "\n",
        "# Display the result\n",
        "print(result)\n"
      ],
      "metadata": {
        "colab": {
          "base_uri": "https://localhost:8080/"
        },
        "id": "8wlU-p09Qt5y",
        "outputId": "3e960902-a686-493a-a328-fbcd02994505"
      },
      "execution_count": 13,
      "outputs": [
        {
          "output_type": "stream",
          "name": "stdout",
          "text": [
            "[[19 22]\n",
            " [43 50]]\n"
          ]
        }
      ]
    },
    {
      "cell_type": "code",
      "source": [
        "#12.  Use Pandas to load a CSV file and display its first 5 rows.\n",
        "\n",
        "import pandas as pd\n",
        "\n",
        "# Create a demo CSV file\n",
        "data = {'Name': ['Udai', 'Meera', 'Ranjit', 'Udayan', 'Nur'],\n",
        "        'Age': [24, 27, 22, 32, 29],\n",
        "        'City': ['Guwahati', 'Delhi', 'Ahmedabad', 'Kerala', 'Kashmir']}\n",
        "\n",
        "# Save the data to a CSV file\n",
        "df = pd.DataFrame(data)\n",
        "df.to_csv('demo_data.csv', index=False)\n",
        "\n",
        "# Load the CSV file using Pandas\n",
        "loaded_df = pd.read_csv('demo_data.csv')\n",
        "\n",
        "# Display the first 5 rows\n",
        "print(loaded_df.head())\n"
      ],
      "metadata": {
        "colab": {
          "base_uri": "https://localhost:8080/"
        },
        "id": "fJ5o7l1zREjq",
        "outputId": "f87a4ab2-4773-4b32-ca6d-07364fe3fc33"
      },
      "execution_count": 15,
      "outputs": [
        {
          "output_type": "stream",
          "name": "stdout",
          "text": [
            "     Name  Age       City\n",
            "0    Udai   24   Guwahati\n",
            "1   Meera   27      Delhi\n",
            "2  Ranjit   22  Ahmedabad\n",
            "3  Udayan   32     Kerala\n",
            "4     Nur   29    Kashmir\n"
          ]
        }
      ]
    },
    {
      "cell_type": "code",
      "source": [
        "#13. Create a 3D scatter plot using Plotly.\n",
        "\n",
        "import plotly.express as px\n",
        "import pandas as pd\n",
        "\n",
        "# Sample data\n",
        "df = pd.DataFrame({\n",
        "    'X': [1, 2, 3, 4, 5],\n",
        "    'Y': [30, 11, 21, 40, 17],\n",
        "    'Z': [4, 9, 20, 15, 44],\n",
        "    'Label': ['A', 'B', 'C', 'D', 'E']\n",
        "})\n",
        "\n",
        "# Create a 3D scatter plot\n",
        "fig = px.scatter_3d(df, x='X', y='Y', z='Z', color='Label', title='3D Scatter Plot')\n",
        "\n",
        "# Display the plot\n",
        "fig.show()"
      ],
      "metadata": {
        "colab": {
          "base_uri": "https://localhost:8080/",
          "height": 542
        },
        "id": "oqT2uNZPSMVk",
        "outputId": "633b8ece-4c5a-4fd6-8893-b4c360b276db"
      },
      "execution_count": 17,
      "outputs": [
        {
          "output_type": "display_data",
          "data": {
            "text/html": [
              "<html>\n",
              "<head><meta charset=\"utf-8\" /></head>\n",
              "<body>\n",
              "    <div>            <script src=\"https://cdnjs.cloudflare.com/ajax/libs/mathjax/2.7.5/MathJax.js?config=TeX-AMS-MML_SVG\"></script><script type=\"text/javascript\">if (window.MathJax && window.MathJax.Hub && window.MathJax.Hub.Config) {window.MathJax.Hub.Config({SVG: {font: \"STIX-Web\"}});}</script>                <script type=\"text/javascript\">window.PlotlyConfig = {MathJaxConfig: 'local'};</script>\n",
              "        <script charset=\"utf-8\" src=\"https://cdn.plot.ly/plotly-2.35.2.min.js\"></script>                <div id=\"37984960-6263-49c9-981a-21ef1fb8e9fc\" class=\"plotly-graph-div\" style=\"height:525px; width:100%;\"></div>            <script type=\"text/javascript\">                                    window.PLOTLYENV=window.PLOTLYENV || {};                                    if (document.getElementById(\"37984960-6263-49c9-981a-21ef1fb8e9fc\")) {                    Plotly.newPlot(                        \"37984960-6263-49c9-981a-21ef1fb8e9fc\",                        [{\"hovertemplate\":\"Label=A\\u003cbr\\u003eX=%{x}\\u003cbr\\u003eY=%{y}\\u003cbr\\u003eZ=%{z}\\u003cextra\\u003e\\u003c\\u002fextra\\u003e\",\"legendgroup\":\"A\",\"marker\":{\"color\":\"#636efa\",\"symbol\":\"circle\"},\"mode\":\"markers\",\"name\":\"A\",\"scene\":\"scene\",\"showlegend\":true,\"x\":[1],\"y\":[30],\"z\":[4],\"type\":\"scatter3d\"},{\"hovertemplate\":\"Label=B\\u003cbr\\u003eX=%{x}\\u003cbr\\u003eY=%{y}\\u003cbr\\u003eZ=%{z}\\u003cextra\\u003e\\u003c\\u002fextra\\u003e\",\"legendgroup\":\"B\",\"marker\":{\"color\":\"#EF553B\",\"symbol\":\"circle\"},\"mode\":\"markers\",\"name\":\"B\",\"scene\":\"scene\",\"showlegend\":true,\"x\":[2],\"y\":[11],\"z\":[9],\"type\":\"scatter3d\"},{\"hovertemplate\":\"Label=C\\u003cbr\\u003eX=%{x}\\u003cbr\\u003eY=%{y}\\u003cbr\\u003eZ=%{z}\\u003cextra\\u003e\\u003c\\u002fextra\\u003e\",\"legendgroup\":\"C\",\"marker\":{\"color\":\"#00cc96\",\"symbol\":\"circle\"},\"mode\":\"markers\",\"name\":\"C\",\"scene\":\"scene\",\"showlegend\":true,\"x\":[3],\"y\":[21],\"z\":[20],\"type\":\"scatter3d\"},{\"hovertemplate\":\"Label=D\\u003cbr\\u003eX=%{x}\\u003cbr\\u003eY=%{y}\\u003cbr\\u003eZ=%{z}\\u003cextra\\u003e\\u003c\\u002fextra\\u003e\",\"legendgroup\":\"D\",\"marker\":{\"color\":\"#ab63fa\",\"symbol\":\"circle\"},\"mode\":\"markers\",\"name\":\"D\",\"scene\":\"scene\",\"showlegend\":true,\"x\":[4],\"y\":[40],\"z\":[15],\"type\":\"scatter3d\"},{\"hovertemplate\":\"Label=E\\u003cbr\\u003eX=%{x}\\u003cbr\\u003eY=%{y}\\u003cbr\\u003eZ=%{z}\\u003cextra\\u003e\\u003c\\u002fextra\\u003e\",\"legendgroup\":\"E\",\"marker\":{\"color\":\"#FFA15A\",\"symbol\":\"circle\"},\"mode\":\"markers\",\"name\":\"E\",\"scene\":\"scene\",\"showlegend\":true,\"x\":[5],\"y\":[17],\"z\":[44],\"type\":\"scatter3d\"}],                        {\"template\":{\"data\":{\"histogram2dcontour\":[{\"type\":\"histogram2dcontour\",\"colorbar\":{\"outlinewidth\":0,\"ticks\":\"\"},\"colorscale\":[[0.0,\"#0d0887\"],[0.1111111111111111,\"#46039f\"],[0.2222222222222222,\"#7201a8\"],[0.3333333333333333,\"#9c179e\"],[0.4444444444444444,\"#bd3786\"],[0.5555555555555556,\"#d8576b\"],[0.6666666666666666,\"#ed7953\"],[0.7777777777777778,\"#fb9f3a\"],[0.8888888888888888,\"#fdca26\"],[1.0,\"#f0f921\"]]}],\"choropleth\":[{\"type\":\"choropleth\",\"colorbar\":{\"outlinewidth\":0,\"ticks\":\"\"}}],\"histogram2d\":[{\"type\":\"histogram2d\",\"colorbar\":{\"outlinewidth\":0,\"ticks\":\"\"},\"colorscale\":[[0.0,\"#0d0887\"],[0.1111111111111111,\"#46039f\"],[0.2222222222222222,\"#7201a8\"],[0.3333333333333333,\"#9c179e\"],[0.4444444444444444,\"#bd3786\"],[0.5555555555555556,\"#d8576b\"],[0.6666666666666666,\"#ed7953\"],[0.7777777777777778,\"#fb9f3a\"],[0.8888888888888888,\"#fdca26\"],[1.0,\"#f0f921\"]]}],\"heatmap\":[{\"type\":\"heatmap\",\"colorbar\":{\"outlinewidth\":0,\"ticks\":\"\"},\"colorscale\":[[0.0,\"#0d0887\"],[0.1111111111111111,\"#46039f\"],[0.2222222222222222,\"#7201a8\"],[0.3333333333333333,\"#9c179e\"],[0.4444444444444444,\"#bd3786\"],[0.5555555555555556,\"#d8576b\"],[0.6666666666666666,\"#ed7953\"],[0.7777777777777778,\"#fb9f3a\"],[0.8888888888888888,\"#fdca26\"],[1.0,\"#f0f921\"]]}],\"heatmapgl\":[{\"type\":\"heatmapgl\",\"colorbar\":{\"outlinewidth\":0,\"ticks\":\"\"},\"colorscale\":[[0.0,\"#0d0887\"],[0.1111111111111111,\"#46039f\"],[0.2222222222222222,\"#7201a8\"],[0.3333333333333333,\"#9c179e\"],[0.4444444444444444,\"#bd3786\"],[0.5555555555555556,\"#d8576b\"],[0.6666666666666666,\"#ed7953\"],[0.7777777777777778,\"#fb9f3a\"],[0.8888888888888888,\"#fdca26\"],[1.0,\"#f0f921\"]]}],\"contourcarpet\":[{\"type\":\"contourcarpet\",\"colorbar\":{\"outlinewidth\":0,\"ticks\":\"\"}}],\"contour\":[{\"type\":\"contour\",\"colorbar\":{\"outlinewidth\":0,\"ticks\":\"\"},\"colorscale\":[[0.0,\"#0d0887\"],[0.1111111111111111,\"#46039f\"],[0.2222222222222222,\"#7201a8\"],[0.3333333333333333,\"#9c179e\"],[0.4444444444444444,\"#bd3786\"],[0.5555555555555556,\"#d8576b\"],[0.6666666666666666,\"#ed7953\"],[0.7777777777777778,\"#fb9f3a\"],[0.8888888888888888,\"#fdca26\"],[1.0,\"#f0f921\"]]}],\"surface\":[{\"type\":\"surface\",\"colorbar\":{\"outlinewidth\":0,\"ticks\":\"\"},\"colorscale\":[[0.0,\"#0d0887\"],[0.1111111111111111,\"#46039f\"],[0.2222222222222222,\"#7201a8\"],[0.3333333333333333,\"#9c179e\"],[0.4444444444444444,\"#bd3786\"],[0.5555555555555556,\"#d8576b\"],[0.6666666666666666,\"#ed7953\"],[0.7777777777777778,\"#fb9f3a\"],[0.8888888888888888,\"#fdca26\"],[1.0,\"#f0f921\"]]}],\"mesh3d\":[{\"type\":\"mesh3d\",\"colorbar\":{\"outlinewidth\":0,\"ticks\":\"\"}}],\"scatter\":[{\"fillpattern\":{\"fillmode\":\"overlay\",\"size\":10,\"solidity\":0.2},\"type\":\"scatter\"}],\"parcoords\":[{\"type\":\"parcoords\",\"line\":{\"colorbar\":{\"outlinewidth\":0,\"ticks\":\"\"}}}],\"scatterpolargl\":[{\"type\":\"scatterpolargl\",\"marker\":{\"colorbar\":{\"outlinewidth\":0,\"ticks\":\"\"}}}],\"bar\":[{\"error_x\":{\"color\":\"#2a3f5f\"},\"error_y\":{\"color\":\"#2a3f5f\"},\"marker\":{\"line\":{\"color\":\"#E5ECF6\",\"width\":0.5},\"pattern\":{\"fillmode\":\"overlay\",\"size\":10,\"solidity\":0.2}},\"type\":\"bar\"}],\"scattergeo\":[{\"type\":\"scattergeo\",\"marker\":{\"colorbar\":{\"outlinewidth\":0,\"ticks\":\"\"}}}],\"scatterpolar\":[{\"type\":\"scatterpolar\",\"marker\":{\"colorbar\":{\"outlinewidth\":0,\"ticks\":\"\"}}}],\"histogram\":[{\"marker\":{\"pattern\":{\"fillmode\":\"overlay\",\"size\":10,\"solidity\":0.2}},\"type\":\"histogram\"}],\"scattergl\":[{\"type\":\"scattergl\",\"marker\":{\"colorbar\":{\"outlinewidth\":0,\"ticks\":\"\"}}}],\"scatter3d\":[{\"type\":\"scatter3d\",\"line\":{\"colorbar\":{\"outlinewidth\":0,\"ticks\":\"\"}},\"marker\":{\"colorbar\":{\"outlinewidth\":0,\"ticks\":\"\"}}}],\"scattermapbox\":[{\"type\":\"scattermapbox\",\"marker\":{\"colorbar\":{\"outlinewidth\":0,\"ticks\":\"\"}}}],\"scatterternary\":[{\"type\":\"scatterternary\",\"marker\":{\"colorbar\":{\"outlinewidth\":0,\"ticks\":\"\"}}}],\"scattercarpet\":[{\"type\":\"scattercarpet\",\"marker\":{\"colorbar\":{\"outlinewidth\":0,\"ticks\":\"\"}}}],\"carpet\":[{\"aaxis\":{\"endlinecolor\":\"#2a3f5f\",\"gridcolor\":\"white\",\"linecolor\":\"white\",\"minorgridcolor\":\"white\",\"startlinecolor\":\"#2a3f5f\"},\"baxis\":{\"endlinecolor\":\"#2a3f5f\",\"gridcolor\":\"white\",\"linecolor\":\"white\",\"minorgridcolor\":\"white\",\"startlinecolor\":\"#2a3f5f\"},\"type\":\"carpet\"}],\"table\":[{\"cells\":{\"fill\":{\"color\":\"#EBF0F8\"},\"line\":{\"color\":\"white\"}},\"header\":{\"fill\":{\"color\":\"#C8D4E3\"},\"line\":{\"color\":\"white\"}},\"type\":\"table\"}],\"barpolar\":[{\"marker\":{\"line\":{\"color\":\"#E5ECF6\",\"width\":0.5},\"pattern\":{\"fillmode\":\"overlay\",\"size\":10,\"solidity\":0.2}},\"type\":\"barpolar\"}],\"pie\":[{\"automargin\":true,\"type\":\"pie\"}]},\"layout\":{\"autotypenumbers\":\"strict\",\"colorway\":[\"#636efa\",\"#EF553B\",\"#00cc96\",\"#ab63fa\",\"#FFA15A\",\"#19d3f3\",\"#FF6692\",\"#B6E880\",\"#FF97FF\",\"#FECB52\"],\"font\":{\"color\":\"#2a3f5f\"},\"hovermode\":\"closest\",\"hoverlabel\":{\"align\":\"left\"},\"paper_bgcolor\":\"white\",\"plot_bgcolor\":\"#E5ECF6\",\"polar\":{\"bgcolor\":\"#E5ECF6\",\"angularaxis\":{\"gridcolor\":\"white\",\"linecolor\":\"white\",\"ticks\":\"\"},\"radialaxis\":{\"gridcolor\":\"white\",\"linecolor\":\"white\",\"ticks\":\"\"}},\"ternary\":{\"bgcolor\":\"#E5ECF6\",\"aaxis\":{\"gridcolor\":\"white\",\"linecolor\":\"white\",\"ticks\":\"\"},\"baxis\":{\"gridcolor\":\"white\",\"linecolor\":\"white\",\"ticks\":\"\"},\"caxis\":{\"gridcolor\":\"white\",\"linecolor\":\"white\",\"ticks\":\"\"}},\"coloraxis\":{\"colorbar\":{\"outlinewidth\":0,\"ticks\":\"\"}},\"colorscale\":{\"sequential\":[[0.0,\"#0d0887\"],[0.1111111111111111,\"#46039f\"],[0.2222222222222222,\"#7201a8\"],[0.3333333333333333,\"#9c179e\"],[0.4444444444444444,\"#bd3786\"],[0.5555555555555556,\"#d8576b\"],[0.6666666666666666,\"#ed7953\"],[0.7777777777777778,\"#fb9f3a\"],[0.8888888888888888,\"#fdca26\"],[1.0,\"#f0f921\"]],\"sequentialminus\":[[0.0,\"#0d0887\"],[0.1111111111111111,\"#46039f\"],[0.2222222222222222,\"#7201a8\"],[0.3333333333333333,\"#9c179e\"],[0.4444444444444444,\"#bd3786\"],[0.5555555555555556,\"#d8576b\"],[0.6666666666666666,\"#ed7953\"],[0.7777777777777778,\"#fb9f3a\"],[0.8888888888888888,\"#fdca26\"],[1.0,\"#f0f921\"]],\"diverging\":[[0,\"#8e0152\"],[0.1,\"#c51b7d\"],[0.2,\"#de77ae\"],[0.3,\"#f1b6da\"],[0.4,\"#fde0ef\"],[0.5,\"#f7f7f7\"],[0.6,\"#e6f5d0\"],[0.7,\"#b8e186\"],[0.8,\"#7fbc41\"],[0.9,\"#4d9221\"],[1,\"#276419\"]]},\"xaxis\":{\"gridcolor\":\"white\",\"linecolor\":\"white\",\"ticks\":\"\",\"title\":{\"standoff\":15},\"zerolinecolor\":\"white\",\"automargin\":true,\"zerolinewidth\":2},\"yaxis\":{\"gridcolor\":\"white\",\"linecolor\":\"white\",\"ticks\":\"\",\"title\":{\"standoff\":15},\"zerolinecolor\":\"white\",\"automargin\":true,\"zerolinewidth\":2},\"scene\":{\"xaxis\":{\"backgroundcolor\":\"#E5ECF6\",\"gridcolor\":\"white\",\"linecolor\":\"white\",\"showbackground\":true,\"ticks\":\"\",\"zerolinecolor\":\"white\",\"gridwidth\":2},\"yaxis\":{\"backgroundcolor\":\"#E5ECF6\",\"gridcolor\":\"white\",\"linecolor\":\"white\",\"showbackground\":true,\"ticks\":\"\",\"zerolinecolor\":\"white\",\"gridwidth\":2},\"zaxis\":{\"backgroundcolor\":\"#E5ECF6\",\"gridcolor\":\"white\",\"linecolor\":\"white\",\"showbackground\":true,\"ticks\":\"\",\"zerolinecolor\":\"white\",\"gridwidth\":2}},\"shapedefaults\":{\"line\":{\"color\":\"#2a3f5f\"}},\"annotationdefaults\":{\"arrowcolor\":\"#2a3f5f\",\"arrowhead\":0,\"arrowwidth\":1},\"geo\":{\"bgcolor\":\"white\",\"landcolor\":\"#E5ECF6\",\"subunitcolor\":\"white\",\"showland\":true,\"showlakes\":true,\"lakecolor\":\"white\"},\"title\":{\"x\":0.05},\"mapbox\":{\"style\":\"light\"}}},\"scene\":{\"domain\":{\"x\":[0.0,1.0],\"y\":[0.0,1.0]},\"xaxis\":{\"title\":{\"text\":\"X\"}},\"yaxis\":{\"title\":{\"text\":\"Y\"}},\"zaxis\":{\"title\":{\"text\":\"Z\"}}},\"legend\":{\"title\":{\"text\":\"Label\"},\"tracegroupgap\":0},\"title\":{\"text\":\"3D Scatter Plot\"}},                        {\"responsive\": true}                    ).then(function(){\n",
              "                            \n",
              "var gd = document.getElementById('37984960-6263-49c9-981a-21ef1fb8e9fc');\n",
              "var x = new MutationObserver(function (mutations, observer) {{\n",
              "        var display = window.getComputedStyle(gd).display;\n",
              "        if (!display || display === 'none') {{\n",
              "            console.log([gd, 'removed!']);\n",
              "            Plotly.purge(gd);\n",
              "            observer.disconnect();\n",
              "        }}\n",
              "}});\n",
              "\n",
              "// Listen for the removal of the full notebook cells\n",
              "var notebookContainer = gd.closest('#notebook-container');\n",
              "if (notebookContainer) {{\n",
              "    x.observe(notebookContainer, {childList: true});\n",
              "}}\n",
              "\n",
              "// Listen for the clearing of the current output cell\n",
              "var outputEl = gd.closest('.output');\n",
              "if (outputEl) {{\n",
              "    x.observe(outputEl, {childList: true});\n",
              "}}\n",
              "\n",
              "                        })                };                            </script>        </div>\n",
              "</body>\n",
              "</html>"
            ]
          },
          "metadata": {}
        }
      ]
    }
  ]
}